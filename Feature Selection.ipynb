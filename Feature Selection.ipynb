{
  "nbformat": 4,
  "nbformat_minor": 0,
  "metadata": {
    "colab": {
      "provenance": [],
      "include_colab_link": true
    },
    "kernelspec": {
      "name": "python3",
      "display_name": "Python 3"
    },
    "language_info": {
      "name": "python"
    }
  },
  "cells": [
    {
      "cell_type": "markdown",
      "metadata": {
        "id": "view-in-github",
        "colab_type": "text"
      },
      "source": [
        "<a href=\"https://colab.research.google.com/github/shahriar-tamjid/road-accident-data-analysis-of-dhaka-city/blob/main/Feature%20Selection.ipynb\" target=\"_parent\"><img src=\"https://colab.research.google.com/assets/colab-badge.svg\" alt=\"Open In Colab\"/></a>"
      ]
    },
    {
      "cell_type": "markdown",
      "source": [
        "# **Feature Selection**"
      ],
      "metadata": {
        "id": "Nyvm1FIGXfHl"
      }
    },
    {
      "cell_type": "markdown",
      "source": [
        "Feature selection is the process of selecting a subset of relevant features from a larger set of available features in a dataset. It is done in machine learning for the following reasons:\n",
        "\n",
        "1. **Improved Model Performance**: By including only the most informative features, overfitting can be prevented and the model's generalization and predictive performance can be improved.\n",
        "\n",
        "2. **Faster Training and Inference**: Reducing the number of features speeds up the training process and makes predictions more efficient.\n",
        "\n",
        "3. **Simplified Model Interpretation**: A model with a smaller set of features is easier to interpret and understand, enabling better insights and decision-making.\n",
        "\n",
        "4. **Data Dimensionality Reduction**: Feature selection mitigates issues caused by high-dimensional datasets, such as increased complexity, sparsity, and improved visualization.\n",
        "\n",
        "5. **Noise Reduction and Improved Robustness**: Eliminating irrelevant features helps to reduce noise and improve the model's robustness and generalization.\n",
        "\n",
        "Overall, feature selection plays a crucial role in enhancing model performance, reducing complexity, and extracting meaningful insights from data."
      ],
      "metadata": {
        "id": "QghWJrt-Xi_L"
      }
    },
    {
      "cell_type": "markdown",
      "source": [
        "# **Types of Feature Selection**"
      ],
      "metadata": {
        "id": "0pbhdIbeY9qM"
      }
    },
    {
      "cell_type": "markdown",
      "source": [
        "Filter Methods:\n",
        "*   Univariate Feature Selection\n",
        "*   Correlation-based Feature Selection\n",
        "\n",
        "Wrapper Methods:\n",
        "*   Recursive Feature Elimination\n",
        "\n",
        "Regularized Regression:\n",
        "*   Lasso Regression\n"
      ],
      "metadata": {
        "id": "bjFqGRl6ZB3j"
      }
    },
    {
      "cell_type": "markdown",
      "source": [
        "# **Mount Drive**"
      ],
      "metadata": {
        "id": "5ARsst5r6jtj"
      }
    },
    {
      "cell_type": "code",
      "source": [
        "from google.colab import drive\n",
        "drive.mount('/content/drive')"
      ],
      "metadata": {
        "id": "-Bi_SrVavUXr",
        "colab": {
          "base_uri": "https://localhost:8080/"
        },
        "outputId": "1ad2a36b-8b59-4e4a-acc0-5a15393027b0"
      },
      "execution_count": null,
      "outputs": [
        {
          "output_type": "stream",
          "name": "stdout",
          "text": [
            "Mounted at /content/drive\n"
          ]
        }
      ]
    },
    {
      "cell_type": "markdown",
      "source": [
        "# **Univariate Feature Selection**"
      ],
      "metadata": {
        "id": "Dsgt6zJKZmIo"
      }
    },
    {
      "cell_type": "markdown",
      "source": [
        "Univariate feature selection is a statistical method for selecting features for a predictive model based on their univariate relationship with the target variable. In other words, it looks at each feature individually to see how well it predicts the target variable.\n",
        "\n",
        "Univariate feature selection is a relatively simple and straightforward method, but it can be effective in identifying the most important features for a predictive model. Here are the basic steps involved in univariate feature selection:\n",
        "\n",
        "*  Collect data on a set of features and a target variable.\n",
        "*  For each feature, calculate a measure of its relationship with the target variable.\n",
        "*  Select the features with the highest measures of relationship with the target variable."
      ],
      "metadata": {
        "id": "VII8mEEwZo-5"
      }
    },
    {
      "cell_type": "markdown",
      "source": [
        "**Import Libraries and Load the Dataset**"
      ],
      "metadata": {
        "id": "R2xyczEg6P2r"
      }
    },
    {
      "cell_type": "code",
      "source": [
        "import pandas as pd\n",
        "from sklearn.feature_selection import SelectKBest, f_classif\n",
        "\n",
        "# Load the dataset from Excel file\n",
        "df = pd.read_excel(\"/content/drive/MyDrive/GoogleColab2/Pre-Defense/Feature Selection/Numeric_Accident_Data.xlsx\")\n",
        "\n",
        "df.head()"
      ],
      "metadata": {
        "id": "wCASaAv-pWVC",
        "colab": {
          "base_uri": "https://localhost:8080/",
          "height": 206
        },
        "outputId": "1eb7fdc1-b4b2-4a11-d7ae-740893158ad3"
      },
      "execution_count": null,
      "outputs": [
        {
          "output_type": "execute_result",
          "data": {
            "text/plain": [
              "   ID  Year  Month  Location  Accident_Intensity  Junction  Traffic_Control  \\\n",
              "0   1  2007      6         1                   4         6                6   \n",
              "1   2  2007      5         2                   4         1                6   \n",
              "2   3  2007     11         3                   4         1                6   \n",
              "3   4  2007     10         4                   3         1                6   \n",
              "4   5  2007     10         5                   4         2                1   \n",
              "\n",
              "   Weather  Lighting  \n",
              "0        3         3  \n",
              "1        3         3  \n",
              "2        1         2  \n",
              "3        1         3  \n",
              "4        3         3  "
            ],
            "text/html": [
              "\n",
              "  <div id=\"df-4c4aad0a-33bc-48b6-be35-5c8faba1544d\">\n",
              "    <div class=\"colab-df-container\">\n",
              "      <div>\n",
              "<style scoped>\n",
              "    .dataframe tbody tr th:only-of-type {\n",
              "        vertical-align: middle;\n",
              "    }\n",
              "\n",
              "    .dataframe tbody tr th {\n",
              "        vertical-align: top;\n",
              "    }\n",
              "\n",
              "    .dataframe thead th {\n",
              "        text-align: right;\n",
              "    }\n",
              "</style>\n",
              "<table border=\"1\" class=\"dataframe\">\n",
              "  <thead>\n",
              "    <tr style=\"text-align: right;\">\n",
              "      <th></th>\n",
              "      <th>ID</th>\n",
              "      <th>Year</th>\n",
              "      <th>Month</th>\n",
              "      <th>Location</th>\n",
              "      <th>Accident_Intensity</th>\n",
              "      <th>Junction</th>\n",
              "      <th>Traffic_Control</th>\n",
              "      <th>Weather</th>\n",
              "      <th>Lighting</th>\n",
              "    </tr>\n",
              "  </thead>\n",
              "  <tbody>\n",
              "    <tr>\n",
              "      <th>0</th>\n",
              "      <td>1</td>\n",
              "      <td>2007</td>\n",
              "      <td>6</td>\n",
              "      <td>1</td>\n",
              "      <td>4</td>\n",
              "      <td>6</td>\n",
              "      <td>6</td>\n",
              "      <td>3</td>\n",
              "      <td>3</td>\n",
              "    </tr>\n",
              "    <tr>\n",
              "      <th>1</th>\n",
              "      <td>2</td>\n",
              "      <td>2007</td>\n",
              "      <td>5</td>\n",
              "      <td>2</td>\n",
              "      <td>4</td>\n",
              "      <td>1</td>\n",
              "      <td>6</td>\n",
              "      <td>3</td>\n",
              "      <td>3</td>\n",
              "    </tr>\n",
              "    <tr>\n",
              "      <th>2</th>\n",
              "      <td>3</td>\n",
              "      <td>2007</td>\n",
              "      <td>11</td>\n",
              "      <td>3</td>\n",
              "      <td>4</td>\n",
              "      <td>1</td>\n",
              "      <td>6</td>\n",
              "      <td>1</td>\n",
              "      <td>2</td>\n",
              "    </tr>\n",
              "    <tr>\n",
              "      <th>3</th>\n",
              "      <td>4</td>\n",
              "      <td>2007</td>\n",
              "      <td>10</td>\n",
              "      <td>4</td>\n",
              "      <td>3</td>\n",
              "      <td>1</td>\n",
              "      <td>6</td>\n",
              "      <td>1</td>\n",
              "      <td>3</td>\n",
              "    </tr>\n",
              "    <tr>\n",
              "      <th>4</th>\n",
              "      <td>5</td>\n",
              "      <td>2007</td>\n",
              "      <td>10</td>\n",
              "      <td>5</td>\n",
              "      <td>4</td>\n",
              "      <td>2</td>\n",
              "      <td>1</td>\n",
              "      <td>3</td>\n",
              "      <td>3</td>\n",
              "    </tr>\n",
              "  </tbody>\n",
              "</table>\n",
              "</div>\n",
              "      <button class=\"colab-df-convert\" onclick=\"convertToInteractive('df-4c4aad0a-33bc-48b6-be35-5c8faba1544d')\"\n",
              "              title=\"Convert this dataframe to an interactive table.\"\n",
              "              style=\"display:none;\">\n",
              "        \n",
              "  <svg xmlns=\"http://www.w3.org/2000/svg\" height=\"24px\"viewBox=\"0 0 24 24\"\n",
              "       width=\"24px\">\n",
              "    <path d=\"M0 0h24v24H0V0z\" fill=\"none\"/>\n",
              "    <path d=\"M18.56 5.44l.94 2.06.94-2.06 2.06-.94-2.06-.94-.94-2.06-.94 2.06-2.06.94zm-11 1L8.5 8.5l.94-2.06 2.06-.94-2.06-.94L8.5 2.5l-.94 2.06-2.06.94zm10 10l.94 2.06.94-2.06 2.06-.94-2.06-.94-.94-2.06-.94 2.06-2.06.94z\"/><path d=\"M17.41 7.96l-1.37-1.37c-.4-.4-.92-.59-1.43-.59-.52 0-1.04.2-1.43.59L10.3 9.45l-7.72 7.72c-.78.78-.78 2.05 0 2.83L4 21.41c.39.39.9.59 1.41.59.51 0 1.02-.2 1.41-.59l7.78-7.78 2.81-2.81c.8-.78.8-2.07 0-2.86zM5.41 20L4 18.59l7.72-7.72 1.47 1.35L5.41 20z\"/>\n",
              "  </svg>\n",
              "      </button>\n",
              "      \n",
              "  <style>\n",
              "    .colab-df-container {\n",
              "      display:flex;\n",
              "      flex-wrap:wrap;\n",
              "      gap: 12px;\n",
              "    }\n",
              "\n",
              "    .colab-df-convert {\n",
              "      background-color: #E8F0FE;\n",
              "      border: none;\n",
              "      border-radius: 50%;\n",
              "      cursor: pointer;\n",
              "      display: none;\n",
              "      fill: #1967D2;\n",
              "      height: 32px;\n",
              "      padding: 0 0 0 0;\n",
              "      width: 32px;\n",
              "    }\n",
              "\n",
              "    .colab-df-convert:hover {\n",
              "      background-color: #E2EBFA;\n",
              "      box-shadow: 0px 1px 2px rgba(60, 64, 67, 0.3), 0px 1px 3px 1px rgba(60, 64, 67, 0.15);\n",
              "      fill: #174EA6;\n",
              "    }\n",
              "\n",
              "    [theme=dark] .colab-df-convert {\n",
              "      background-color: #3B4455;\n",
              "      fill: #D2E3FC;\n",
              "    }\n",
              "\n",
              "    [theme=dark] .colab-df-convert:hover {\n",
              "      background-color: #434B5C;\n",
              "      box-shadow: 0px 1px 3px 1px rgba(0, 0, 0, 0.15);\n",
              "      filter: drop-shadow(0px 1px 2px rgba(0, 0, 0, 0.3));\n",
              "      fill: #FFFFFF;\n",
              "    }\n",
              "  </style>\n",
              "\n",
              "      <script>\n",
              "        const buttonEl =\n",
              "          document.querySelector('#df-4c4aad0a-33bc-48b6-be35-5c8faba1544d button.colab-df-convert');\n",
              "        buttonEl.style.display =\n",
              "          google.colab.kernel.accessAllowed ? 'block' : 'none';\n",
              "\n",
              "        async function convertToInteractive(key) {\n",
              "          const element = document.querySelector('#df-4c4aad0a-33bc-48b6-be35-5c8faba1544d');\n",
              "          const dataTable =\n",
              "            await google.colab.kernel.invokeFunction('convertToInteractive',\n",
              "                                                     [key], {});\n",
              "          if (!dataTable) return;\n",
              "\n",
              "          const docLinkHtml = 'Like what you see? Visit the ' +\n",
              "            '<a target=\"_blank\" href=https://colab.research.google.com/notebooks/data_table.ipynb>data table notebook</a>'\n",
              "            + ' to learn more about interactive tables.';\n",
              "          element.innerHTML = '';\n",
              "          dataTable['output_type'] = 'display_data';\n",
              "          await google.colab.output.renderOutput(dataTable, element);\n",
              "          const docLink = document.createElement('div');\n",
              "          docLink.innerHTML = docLinkHtml;\n",
              "          element.appendChild(docLink);\n",
              "        }\n",
              "      </script>\n",
              "    </div>\n",
              "  </div>\n",
              "  "
            ]
          },
          "metadata": {},
          "execution_count": 3
        }
      ]
    },
    {
      "cell_type": "markdown",
      "source": [
        "**Define Target as \"Location\" (Input Split)**"
      ],
      "metadata": {
        "id": "D3gRIz_8Yqrw"
      }
    },
    {
      "cell_type": "code",
      "source": [
        "# Split the dataset into X (features) and y (target variable)\n",
        "X = df.drop(['Location', 'ID'], axis=1)\n",
        "y = df['Location']\n",
        "\n",
        "# Apply Univariate Feature Selection\n",
        "selector = SelectKBest(f_classif, k=6) # Set k=6 to select top 6 features\n",
        "X_new = selector.fit_transform(X, y)\n",
        "\n",
        "# Identify the selected features\n",
        "selected_features = X.columns[selector.get_support()]\n",
        "\n",
        "# Print the selected features\n",
        "print(\"Top 6 Features:\")\n",
        "for i, feature in enumerate(selected_features):\n",
        "    print(f\"{i+1}. {feature}\")\n"
      ],
      "metadata": {
        "colab": {
          "base_uri": "https://localhost:8080/"
        },
        "outputId": "4c25bf3f-dc4b-4196-9fef-df8fe0dbabc2",
        "id": "pgWNPxuFYqsB"
      },
      "execution_count": null,
      "outputs": [
        {
          "output_type": "stream",
          "name": "stdout",
          "text": [
            "Top 6 Features:\n",
            "1. Year\n",
            "2. Accident_Intensity\n",
            "3. Junction\n",
            "4. Traffic_Control\n",
            "5. Weather\n",
            "6. Lighting\n"
          ]
        }
      ]
    },
    {
      "cell_type": "markdown",
      "source": [
        "**Define Target as \"Junction\" (Input Split)**"
      ],
      "metadata": {
        "id": "1_v3UHD79iSr"
      }
    },
    {
      "cell_type": "code",
      "source": [
        "# Split the dataset into X (features) and y (target variable)\n",
        "X = df.drop(['Junction', 'ID'], axis=1)\n",
        "y = df['Junction']\n",
        "\n",
        "# Apply Univariate Feature Selection\n",
        "selector = SelectKBest(f_classif, k=6) # Set k=6 to select top 6 features\n",
        "X_new = selector.fit_transform(X, y)\n",
        "\n",
        "# Identify the selected features\n",
        "selected_features = X.columns[selector.get_support()]\n",
        "\n",
        "# Print the selected features\n",
        "print(\"Top 6 Features:\")\n",
        "for i, feature in enumerate(selected_features):\n",
        "    print(f\"{i+1}. {feature}\")\n"
      ],
      "metadata": {
        "colab": {
          "base_uri": "https://localhost:8080/"
        },
        "outputId": "b420573e-d902-4060-832f-c9567c41c0bc",
        "id": "XmVYM9Ly9iSz"
      },
      "execution_count": null,
      "outputs": [
        {
          "output_type": "stream",
          "name": "stdout",
          "text": [
            "Top 6 Features:\n",
            "1. Year\n",
            "2. Month\n",
            "3. Location\n",
            "4. Accident_Intensity\n",
            "5. Traffic_Control\n",
            "6. Lighting\n"
          ]
        }
      ]
    },
    {
      "cell_type": "markdown",
      "source": [
        "**Define Target as \"Traffic_Control\" (Input Split)**"
      ],
      "metadata": {
        "id": "FK4PnsI0Dlhk"
      }
    },
    {
      "cell_type": "code",
      "source": [
        "# Split the dataset into X (features) and y (target variable)\n",
        "X = df.drop(['Traffic_Control', 'ID'], axis=1)\n",
        "y = df['Traffic_Control']\n",
        "\n",
        "# Apply Univariate Feature Selection\n",
        "selector = SelectKBest(f_classif, k=6) # Set k=6 to select top 6 features\n",
        "X_new = selector.fit_transform(X, y)\n",
        "\n",
        "# Identify the selected features\n",
        "selected_features = X.columns[selector.get_support()]\n",
        "\n",
        "# Print the selected features\n",
        "print(\"Top 6 Features:\")\n",
        "for i, feature in enumerate(selected_features):\n",
        "    print(f\"{i+1}. {feature}\")\n"
      ],
      "metadata": {
        "colab": {
          "base_uri": "https://localhost:8080/"
        },
        "outputId": "6fd9c688-d984-4a02-ec9f-b389d89f5615",
        "id": "xtvSgcJLDlh1"
      },
      "execution_count": null,
      "outputs": [
        {
          "output_type": "stream",
          "name": "stdout",
          "text": [
            "Top 6 Features:\n",
            "1. Year\n",
            "2. Location\n",
            "3. Accident_Intensity\n",
            "4. Junction\n",
            "5. Weather\n",
            "6. Lighting\n"
          ]
        }
      ]
    },
    {
      "cell_type": "markdown",
      "source": [
        "**Define Target as \"Weather\" (Input Split)**"
      ],
      "metadata": {
        "id": "L-o4U2i1MhKi"
      }
    },
    {
      "cell_type": "code",
      "source": [
        "# Split the dataset into X (features) and y (target variable)\n",
        "X = df.drop(['Weather', 'ID'], axis=1)\n",
        "y = df['Weather']\n",
        "\n",
        "# Apply Univariate Feature Selection\n",
        "selector = SelectKBest(f_classif, k=6) # Set k=6 to select top 6 features\n",
        "X_new = selector.fit_transform(X, y)\n",
        "\n",
        "# Identify the selected features\n",
        "selected_features = X.columns[selector.get_support()]\n",
        "\n",
        "# Print the selected features\n",
        "print(\"Top 6 Features:\")\n",
        "for i, feature in enumerate(selected_features):\n",
        "    print(f\"{i+1}. {feature}\")\n"
      ],
      "metadata": {
        "colab": {
          "base_uri": "https://localhost:8080/"
        },
        "outputId": "42d923d2-5030-4f60-b19c-539860126ede",
        "id": "XSCeM7-JMhKq"
      },
      "execution_count": null,
      "outputs": [
        {
          "output_type": "stream",
          "name": "stdout",
          "text": [
            "Top 6 Features:\n",
            "1. Year\n",
            "2. Month\n",
            "3. Location\n",
            "4. Accident_Intensity\n",
            "5. Junction\n",
            "6. Lighting\n"
          ]
        }
      ]
    },
    {
      "cell_type": "markdown",
      "source": [
        "**Define Target as \"Lighting\" (Input Split)**"
      ],
      "metadata": {
        "id": "tMCUrQ_SNoXZ"
      }
    },
    {
      "cell_type": "code",
      "source": [
        "# Split the dataset into X (features) and y (target variable)\n",
        "X = df.drop(['Lighting', 'ID'], axis=1)\n",
        "y = df['Lighting']\n",
        "\n",
        "# Apply Univariate Feature Selection\n",
        "selector = SelectKBest(f_classif, k=6) # Set k=6 to select top 6 features\n",
        "X_new = selector.fit_transform(X, y)\n",
        "\n",
        "# Identify the selected features\n",
        "selected_features = X.columns[selector.get_support()]\n",
        "\n",
        "# Print the selected features\n",
        "print(\"Top 6 Features:\")\n",
        "for i, feature in enumerate(selected_features):\n",
        "    print(f\"{i+1}. {feature}\")\n"
      ],
      "metadata": {
        "colab": {
          "base_uri": "https://localhost:8080/"
        },
        "outputId": "b2a75059-fbce-48ee-8a3c-a38b03d2d4cf",
        "id": "crDsGl3QNoXg"
      },
      "execution_count": null,
      "outputs": [
        {
          "output_type": "stream",
          "name": "stdout",
          "text": [
            "Top 6 Features:\n",
            "1. Month\n",
            "2. Location\n",
            "3. Accident_Intensity\n",
            "4. Junction\n",
            "5. Traffic_Control\n",
            "6. Weather\n"
          ]
        }
      ]
    },
    {
      "cell_type": "markdown",
      "source": [
        "# **Correlation-based Feature Selection**"
      ],
      "metadata": {
        "id": "bDXBCL70f_MN"
      }
    },
    {
      "cell_type": "markdown",
      "source": [
        "Correlation-based feature selection (CFS) is a filter method for feature selection that uses the correlation between features and the target variable to select features. CFS works by first calculating the correlation between each feature and the target variable. Features with a high correlation are considered to be important features. CFS then uses a greedy algorithm to select a subset of features that have the highest correlation with the target variable and are least correlated with each other.\n",
        "\n",
        "CFS is a simple and easy-to-understand method for feature selection. It is also relatively fast and can be used with any type of machine learning algorithm. However, CFS can be sensitive to noise in the data and can select features that are not actually important for the target variable.\n",
        "\n",
        "Here are the steps involved in correlation-based feature selection:\n",
        "\n",
        "* Calculate the correlation between each feature and the target variable.\n",
        "* Select the features with the highest correlation with the target variable.\n",
        "* Remove any features that are highly correlated with each other.\n",
        "* Repeat steps 2 and 3 until the desired number of features is selected."
      ],
      "metadata": {
        "id": "aKtWlfT0gDZE"
      }
    },
    {
      "cell_type": "markdown",
      "source": [
        "**Import Libraries**"
      ],
      "metadata": {
        "id": "4uUn0tBmhh9x"
      }
    },
    {
      "cell_type": "code",
      "source": [
        "import pandas as pd\n",
        "import numpy as np\n",
        "import seaborn as sb\n",
        "import matplotlib.pyplot as plt"
      ],
      "metadata": {
        "id": "ccVU32Pahs5h"
      },
      "execution_count": null,
      "outputs": []
    },
    {
      "cell_type": "markdown",
      "source": [
        "**Construct the Correlation Matrix**"
      ],
      "metadata": {
        "id": "l0CSTbSjgkJz"
      }
    },
    {
      "cell_type": "code",
      "source": [
        "# Drop the \"ID\" column from the dataset\n",
        "df = df.drop('ID', axis=1)\n",
        "\n",
        "# Get the correlation matrix\n",
        "corr_matrix = df.corr()\n",
        "\n",
        "# Get the absolute values of correlation coefficients\n",
        "corr_matrix_abs = np.abs(corr_matrix)\n",
        "\n",
        "# Set the diagonal values to 0\n",
        "np.fill_diagonal(corr_matrix_abs.values, 0)\n",
        "\n",
        "# Create a heatmap using Seaborn\n",
        "sb.heatmap(corr_matrix, cmap='coolwarm')\n",
        "\n",
        "# Show the plot\n",
        "plt.show()"
      ],
      "metadata": {
        "colab": {
          "base_uri": "https://localhost:8080/",
          "height": 549
        },
        "id": "JxVCul3rhcsj",
        "outputId": "3ee34c72-f33c-4401-8267-078430535fb0"
      },
      "execution_count": null,
      "outputs": [
        {
          "output_type": "display_data",
          "data": {
            "text/plain": [
              "<Figure size 640x480 with 2 Axes>"
            ],
            "image/png": "[encoded data removed]"
          },
          "metadata": {}
        }
      ]
    },
    {
      "cell_type": "markdown",
      "source": [
        "**Define Target as \"Location\" (Input Split)**"
      ],
      "metadata": {
        "id": "x_fYpKF7iPk7"
      }
    },
    {
      "cell_type": "code",
      "source": [
        "# Get the sorted list of features with respect to their correlation with the target variable\n",
        "sorted_features = corr_matrix_abs.nlargest(len(df.columns)-1, 'Location')['Location'].index\n",
        "\n",
        "# Get the top 6 features\n",
        "top_6_features = sorted_features[:6]\n",
        "\n",
        "# Print the top 6 features\n",
        "print(\"Top 6 Features:\")\n",
        "for i, feature in enumerate(top_6_features):\n",
        "    print(f\"{i+1}. {feature}\")\n"
      ],
      "metadata": {
        "colab": {
          "base_uri": "https://localhost:8080/"
        },
        "id": "ZDyI_5HgiTTq",
        "outputId": "81ecaa1e-f4cb-4769-fa87-851c1ed14ccf"
      },
      "execution_count": null,
      "outputs": [
        {
          "output_type": "stream",
          "name": "stdout",
          "text": [
            "Top 6 Features:\n",
            "1. Junction\n",
            "2. Weather\n",
            "3. Accident_Intensity\n",
            "4. Lighting\n",
            "5. Year\n",
            "6. Month\n"
          ]
        }
      ]
    },
    {
      "cell_type": "markdown",
      "source": [
        "**Define Target as \"Junction\" (Input Split)**"
      ],
      "metadata": {
        "id": "7PQ2iV5niWuc"
      }
    },
    {
      "cell_type": "code",
      "source": [
        "# Get the sorted list of features with respect to their correlation with the target variable\n",
        "sorted_features = corr_matrix_abs.nlargest(len(df.columns)-1, 'Junction')['Junction'].index\n",
        "\n",
        "# Get the top 6 features\n",
        "top_6_features = sorted_features[:6]\n",
        "\n",
        "# Print the top 6 features\n",
        "print(\"Top 6 Features:\")\n",
        "for i, feature in enumerate(top_6_features):\n",
        "    print(f\"{i+1}. {feature}\")\n"
      ],
      "metadata": {
        "colab": {
          "base_uri": "https://localhost:8080/"
        },
        "id": "UuqRNpAtiYyo",
        "outputId": "b7359299-316c-421d-9995-784397a81e57"
      },
      "execution_count": null,
      "outputs": [
        {
          "output_type": "stream",
          "name": "stdout",
          "text": [
            "Top 6 Features:\n",
            "1. Traffic_Control\n",
            "2. Accident_Intensity\n",
            "3. Location\n",
            "4. Year\n",
            "5. Lighting\n",
            "6. Weather\n"
          ]
        }
      ]
    },
    {
      "cell_type": "markdown",
      "source": [
        "**Define Target as \"Traffic_Control\" (Input Split)**"
      ],
      "metadata": {
        "id": "QWQJE2DCiem6"
      }
    },
    {
      "cell_type": "code",
      "source": [
        "# Get the sorted list of features with respect to their correlation with the target variable\n",
        "sorted_features = corr_matrix_abs.nlargest(len(df.columns)-1, 'Traffic_Control')['Traffic_Control'].index\n",
        "\n",
        "# Get the top 6 features\n",
        "top_6_features = sorted_features[:6]\n",
        "\n",
        "# Print the top 6 features\n",
        "print(\"Top 6 Features:\")\n",
        "for i, feature in enumerate(top_6_features):\n",
        "    print(f\"{i+1}. {feature}\")\n"
      ],
      "metadata": {
        "colab": {
          "base_uri": "https://localhost:8080/"
        },
        "id": "7E31XweTihLK",
        "outputId": "6e23984a-b54c-4693-9452-4462d52e2650"
      },
      "execution_count": null,
      "outputs": [
        {
          "output_type": "stream",
          "name": "stdout",
          "text": [
            "Top 6 Features:\n",
            "1. Junction\n",
            "2. Year\n",
            "3. Accident_Intensity\n",
            "4. Month\n",
            "5. Location\n",
            "6. Weather\n"
          ]
        }
      ]
    },
    {
      "cell_type": "markdown",
      "source": [
        "**Define Target as \"Weather\" (Input Split)**"
      ],
      "metadata": {
        "id": "rBj7slz8il-R"
      }
    },
    {
      "cell_type": "code",
      "source": [
        "# Get the sorted list of features with respect to their correlation with the target variable\n",
        "sorted_features = corr_matrix_abs.nlargest(len(df.columns)-1, 'Weather')['Weather'].index\n",
        "\n",
        "# Get the top 6 features\n",
        "top_6_features = sorted_features[:6]\n",
        "\n",
        "# Print the top 6 features\n",
        "print(\"Top 6 Features:\")\n",
        "for i, feature in enumerate(top_6_features):\n",
        "    print(f\"{i+1}. {feature}\")\n"
      ],
      "metadata": {
        "colab": {
          "base_uri": "https://localhost:8080/"
        },
        "id": "3AHtpHgdinLg",
        "outputId": "deeb9b3c-1de4-48f7-e83f-f7e92341c113"
      },
      "execution_count": null,
      "outputs": [
        {
          "output_type": "stream",
          "name": "stdout",
          "text": [
            "Top 6 Features:\n",
            "1. Month\n",
            "2. Location\n",
            "3. Accident_Intensity\n",
            "4. Lighting\n",
            "5. Traffic_Control\n",
            "6. Junction\n"
          ]
        }
      ]
    },
    {
      "cell_type": "markdown",
      "source": [
        "**Define Target as \"Lighting\" (Input Split)**"
      ],
      "metadata": {
        "id": "nnJtj2K1ipg6"
      }
    },
    {
      "cell_type": "code",
      "source": [
        "# Get the sorted list of features with respect to their correlation with the target variable\n",
        "sorted_features = corr_matrix_abs.nlargest(len(df.columns)-1, 'Lighting')['Lighting'].index\n",
        "\n",
        "# Get the top 6 features\n",
        "top_6_features = sorted_features[:6]\n",
        "\n",
        "# Print the top 6 features\n",
        "print(\"Top 6 Features:\")\n",
        "for i, feature in enumerate(top_6_features):\n",
        "    print(f\"{i+1}. {feature}\")\n"
      ],
      "metadata": {
        "colab": {
          "base_uri": "https://localhost:8080/"
        },
        "id": "wzgl2QpvisRA",
        "outputId": "d05836f6-ff11-4c22-beb6-b8d5f7e3f639"
      },
      "execution_count": null,
      "outputs": [
        {
          "output_type": "stream",
          "name": "stdout",
          "text": [
            "Top 6 Features:\n",
            "1. Junction\n",
            "2. Weather\n",
            "3. Location\n",
            "4. Month\n",
            "5. Traffic_Control\n",
            "6. Accident_Intensity\n"
          ]
        }
      ]
    },
    {
      "cell_type": "markdown",
      "source": [
        "# **Recursive Feature Elimination**"
      ],
      "metadata": {
        "id": "cbm7-FRqjA1o"
      }
    },
    {
      "cell_type": "markdown",
      "source": [
        "Recursive feature elimination (RFE) is a feature selection algorithm that works by recursively removing features that are deemed to be the least important for predicting the target variable. RFE starts with all of the features in the dataset and then repeatedly removes the least important feature until the desired number of features is reached.\n",
        "\n",
        "RFE is a greedy algorithm, which means that it makes decisions at each step without considering the impact of those decisions on future steps. This can sometimes lead to suboptimal results, but RFE is often very effective in practice.\n",
        "\n",
        "RFE can be used with any machine learning algorithm that can be trained on a subset of the features. It is often used with decision trees, support vector machines, and random forests.\n",
        "\n",
        "Here are the steps involved in RFE:\n",
        "\n",
        "* Initialize the model and fit it to the full dataset.\n",
        "* Rank the features according to their importance to the model.\n",
        "* Remove the least important feature.\n",
        "* Retrain the model on the reduced dataset.\n",
        "* Repeat steps 3 and 4 until the desired number of features is reached."
      ],
      "metadata": {
        "id": "fC91Wd5vjCPB"
      }
    },
    {
      "cell_type": "markdown",
      "source": [
        "**Import Libraries**"
      ],
      "metadata": {
        "id": "d8egvLETm-CF"
      }
    },
    {
      "cell_type": "code",
      "source": [
        "import pandas as pd\n",
        "from sklearn.feature_selection import RFE\n",
        "from sklearn.tree import DecisionTreeClassifier"
      ],
      "metadata": {
        "id": "3v75BYQHnCRc"
      },
      "execution_count": null,
      "outputs": []
    },
    {
      "cell_type": "markdown",
      "source": [
        "**Define Target as \"Location\" (Input Split)**"
      ],
      "metadata": {
        "id": "OOpIkFubjSyj"
      }
    },
    {
      "cell_type": "code",
      "source": [
        "X = df.drop(columns=['Location'], axis=1)\n",
        "y = df.Location\n",
        "\n",
        "# Initialize RFE and Pass Decision Tree Classifier as the Estimator\n",
        "rfe = RFE(estimator=DecisionTreeClassifier(), n_features_to_select=6)\n",
        "rfe.fit(X, y)\n",
        "\n",
        "# Print Selected Features\n",
        "selected_features = [(col, rank) for col, rank in zip(X.columns, rfe.ranking_)]\n",
        "selected_features = sorted(selected_features, key=lambda x: x[1])\n",
        "\n",
        "print(\"Top 6 Features:\")\n",
        "for i, feature in enumerate(selected_features[:6]):\n",
        "    print(f\"{i+1}. {feature[0]}\")\n"
      ],
      "metadata": {
        "colab": {
          "base_uri": "https://localhost:8080/"
        },
        "id": "jKFSdEefjRqJ",
        "outputId": "3a149a6d-4d9c-42c3-d05d-7ededee714eb"
      },
      "execution_count": null,
      "outputs": [
        {
          "output_type": "stream",
          "name": "stdout",
          "text": [
            "Top 6 Features:\n",
            "1. Year\n",
            "2. Junction\n",
            "3. Accident_Intensity\n",
            "4. Traffic_Control\n",
            "5. Weather\n",
            "6. Lighting\n"
          ]
        }
      ]
    },
    {
      "cell_type": "markdown",
      "source": [
        "**Define Target as \"Junction\" (Input Split)**"
      ],
      "metadata": {
        "id": "NOqLcfSBnPp9"
      }
    },
    {
      "cell_type": "code",
      "source": [
        "X = df.drop(columns=['Junction'], axis=1)\n",
        "y = df.Location\n",
        "\n",
        "# Initialize RFE and Pass Decision Tree Classifier as the Estimator\n",
        "rfe = RFE(estimator=DecisionTreeClassifier(), n_features_to_select=6)\n",
        "rfe.fit(X, y)\n",
        "\n",
        "# Print Selected Features\n",
        "selected_features = [(col, rank) for col, rank in zip(X.columns, rfe.ranking_)]\n",
        "selected_features = sorted(selected_features, key=lambda x: x[1])\n",
        "\n",
        "print(\"Top 6 Features:\")\n",
        "for i, feature in enumerate(selected_features[:6]):\n",
        "    print(f\"{i+1}. {feature[0]}\")\n"
      ],
      "metadata": {
        "colab": {
          "base_uri": "https://localhost:8080/"
        },
        "id": "BdA6w7binSYc",
        "outputId": "d4501392-e530-4c3c-b7cb-0d70a456c2b0"
      },
      "execution_count": null,
      "outputs": [
        {
          "output_type": "stream",
          "name": "stdout",
          "text": [
            "Top 6 Features:\n",
            "1. Year\n",
            "2. Traffic_Control\n",
            "3. Location\n",
            "4. Accident_Intensity\n",
            "5. Weather\n",
            "6. Lighting\n"
          ]
        }
      ]
    },
    {
      "cell_type": "markdown",
      "source": [
        "**Define Target as \"Traffic_Control\" (Input Split)**"
      ],
      "metadata": {
        "id": "SLYDDkidnZHz"
      }
    },
    {
      "cell_type": "code",
      "source": [
        "X = df.drop(columns=['Traffic_Control'], axis=1)\n",
        "y = df.Location\n",
        "\n",
        "# Initialize RFE and Pass Decision Tree Classifier as the Estimator\n",
        "rfe = RFE(estimator=DecisionTreeClassifier(), n_features_to_select=6)\n",
        "rfe.fit(X, y)\n",
        "\n",
        "# Print Selected Features\n",
        "selected_features = [(col, rank) for col, rank in zip(X.columns, rfe.ranking_)]\n",
        "selected_features = sorted(selected_features, key=lambda x: x[1])\n",
        "\n",
        "print(\"Top 6 Features:\")\n",
        "for i, feature in enumerate(selected_features[:6]):\n",
        "    print(f\"{i+1}. {feature[0]}\")\n"
      ],
      "metadata": {
        "colab": {
          "base_uri": "https://localhost:8080/"
        },
        "id": "86sPRLopnbgL",
        "outputId": "bcb3724c-e81a-4e1a-e33b-f3d6034ac446"
      },
      "execution_count": null,
      "outputs": [
        {
          "output_type": "stream",
          "name": "stdout",
          "text": [
            "Top 6 Features:\n",
            "1. Year\n",
            "2. Accident_Intensity\n",
            "3. Location\n",
            "4. Junction\n",
            "5. Weather\n",
            "6. Lighting\n"
          ]
        }
      ]
    },
    {
      "cell_type": "markdown",
      "source": [
        "**Define Target as \"Weather\" (Input Split)**"
      ],
      "metadata": {
        "id": "qHJ-x0R6niPz"
      }
    },
    {
      "cell_type": "code",
      "source": [
        "X = df.drop(columns=['Weather'], axis=1)\n",
        "y = df.Location\n",
        "\n",
        "# Initialize RFE and Pass Decision Tree Classifier as the Estimator\n",
        "rfe = RFE(estimator=DecisionTreeClassifier(), n_features_to_select=6)\n",
        "rfe.fit(X, y)\n",
        "\n",
        "# Print Selected Features\n",
        "selected_features = [(col, rank) for col, rank in zip(X.columns, rfe.ranking_)]\n",
        "selected_features = sorted(selected_features, key=lambda x: x[1])\n",
        "\n",
        "print(\"Top 6 Features:\")\n",
        "for i, feature in enumerate(selected_features[:6]):\n",
        "    print(f\"{i+1}. {feature[0]}\")\n"
      ],
      "metadata": {
        "colab": {
          "base_uri": "https://localhost:8080/"
        },
        "id": "GaVpES5gnjK7",
        "outputId": "a71789ab-b6a4-430b-f508-2e57204d2fae"
      },
      "execution_count": null,
      "outputs": [
        {
          "output_type": "stream",
          "name": "stdout",
          "text": [
            "Top 6 Features:\n",
            "1. Year\n",
            "2. Month\n",
            "3. Location\n",
            "4. Accident_Intensity\n",
            "5. Junction\n",
            "6. Lighting\n"
          ]
        }
      ]
    },
    {
      "cell_type": "markdown",
      "source": [
        "**Define Target as \"Lighting\" (Input Split)**"
      ],
      "metadata": {
        "id": "Mr-7GGnbnohT"
      }
    },
    {
      "cell_type": "code",
      "source": [
        "X = df.drop(columns=['Lighting'], axis=1)\n",
        "y = df.Location\n",
        "\n",
        "# Initialize RFE and Pass Decision Tree Classifier as the Estimator\n",
        "rfe = RFE(estimator=DecisionTreeClassifier(), n_features_to_select=6)\n",
        "rfe.fit(X, y)\n",
        "\n",
        "# Print Selected Features\n",
        "selected_features = [(col, rank) for col, rank in zip(X.columns, rfe.ranking_)]\n",
        "selected_features = sorted(selected_features, key=lambda x: x[1])\n",
        "\n",
        "print(\"Top 6 Features:\")\n",
        "for i, feature in enumerate(selected_features[:6]):\n",
        "    print(f\"{i+1}. {feature[0]}\")\n"
      ],
      "metadata": {
        "colab": {
          "base_uri": "https://localhost:8080/"
        },
        "id": "36Q-8hrXnpYj",
        "outputId": "d5c47319-99f8-472f-dc44-223f3b88e475"
      },
      "execution_count": null,
      "outputs": [
        {
          "output_type": "stream",
          "name": "stdout",
          "text": [
            "Top 6 Features:\n",
            "1. Year\n",
            "2. Month\n",
            "3. Location\n",
            "4. Accident_Intensity\n",
            "5. Junction\n",
            "6. Weather\n"
          ]
        }
      ]
    },
    {
      "cell_type": "markdown",
      "source": [
        "**Lasso Regression**"
      ],
      "metadata": {
        "id": "FEVwAH-YoA26"
      }
    },
    {
      "cell_type": "markdown",
      "source": [
        "Lasso regression, also known as L1 regularization, is a type of linear regression that uses shrinkage. Shrinkage is a technique that reduces the size of the coefficients in a model, which can help to prevent overfitting. Lasso regression shrinks the coefficients of features that are not strongly correlated with the target variable, which can help to select the most important features for a model.\n",
        "\n",
        "Lasso regression is a penalized regression method that adds a penalty to the sum of the absolute values of the coefficients. This penalty is inversely proportional to the number of features in the model. As the penalty increases, the coefficients shrink towards zero. When the penalty is large enough, some coefficients may shrink to zero, which means that the corresponding features are excluded from the model.\n",
        "\n",
        "Here are the steps involved in Lasso regression:\n",
        "\n",
        "* **Choose the penalty coefficient**: The penalty coefficient is a hyperparameter that controls the amount of shrinkage. A larger penalty coefficient will result in more shrinkage, which can help to prevent overfitting but may also remove important features from the model. A smaller penalty coefficient will result in less shrinkage, which may lead to overfitting but may also preserve important features.\n",
        "* **Fit the model**: The model is fit using a penalized least squares algorithm. This algorithm minimizes the sum of the squared errors while also imposing a penalty on the sum of the absolute values of the coefficients.\n",
        "* **Select the features**: The features are selected by examining the coefficients of the model. Features with coefficients that are not significantly different from zero are removed from the model.\n",
        "* **Evaluate the model**: The model is evaluated using a holdout dataset. The holdout dataset is a set of data that was not used to fit the model. The model is evaluated by measuring its accuracy on the holdout dataset."
      ],
      "metadata": {
        "id": "twXUlLKqoDIT"
      }
    },
    {
      "cell_type": "markdown",
      "source": [
        "**Import Libraries**"
      ],
      "metadata": {
        "id": "VE0UZk6Zo7Uy"
      }
    },
    {
      "cell_type": "code",
      "source": [
        "import pandas as pd\n",
        "from sklearn.linear_model import LassoCV\n",
        "from sklearn.preprocessing import StandardScaler"
      ],
      "metadata": {
        "id": "gnwKnZ_zoB3j"
      },
      "execution_count": null,
      "outputs": []
    },
    {
      "cell_type": "markdown",
      "source": [
        "**Define Target as \"Location\" (Input Split)**"
      ],
      "metadata": {
        "id": "4elYLTGYpIEK"
      }
    },
    {
      "cell_type": "code",
      "source": [
        "# Define the feature matrix X and target variable y\n",
        "X = df[['Year', 'Month', 'Accident_Intensity', 'Junction', 'Traffic_Control', 'Weather', 'Lighting']]\n",
        "y = df['Location']\n",
        "\n",
        "# Standardize the features\n",
        "scaler = StandardScaler()\n",
        "X_std = scaler.fit_transform(X)\n",
        "\n",
        "# Apply Lasso Regression\n",
        "lasso = LassoCV(cv=5)\n",
        "lasso.fit(X_std, y)\n",
        "\n",
        "# Identify the most important features\n",
        "weights = abs(lasso.coef_)\n",
        "sorted_weights = sorted(range(len(weights)), key=lambda k: -weights[k])\n",
        "\n",
        "# Print the top 6 features\n",
        "print(\"Top 6 Features:\")\n",
        "for i in range(6):\n",
        "    feature_idx = sorted_weights[i]\n",
        "    feature_name = X.columns[feature_idx]\n",
        "    print(f\"{i+1}. {feature_name}\")\n"
      ],
      "metadata": {
        "colab": {
          "base_uri": "https://localhost:8080/"
        },
        "id": "iQ1TQxyypL76",
        "outputId": "47dedb4e-0c29-42b1-b8f9-f0a3e0b6d8d8"
      },
      "execution_count": null,
      "outputs": [
        {
          "output_type": "stream",
          "name": "stdout",
          "text": [
            "Top 6 Features:\n",
            "1. Junction\n",
            "2. Lighting\n",
            "3. Month\n",
            "4. Accident_Intensity\n",
            "5. Traffic_Control\n",
            "6. Weather\n"
          ]
        }
      ]
    },
    {
      "cell_type": "markdown",
      "source": [
        "**Define Target as \"Junction\" (Input Split)**"
      ],
      "metadata": {
        "id": "Q6zsrRaHpPQ6"
      }
    },
    {
      "cell_type": "code",
      "source": [
        "# Define the feature matrix X and target variable y\n",
        "X = df[['Year', 'Month', 'Location', 'Accident_Intensity', 'Traffic_Control', 'Weather', 'Lighting']]\n",
        "y = df['Junction']\n",
        "\n",
        "# Standardize the features\n",
        "scaler = StandardScaler()\n",
        "X_std = scaler.fit_transform(X)\n",
        "\n",
        "# Apply Lasso Regression\n",
        "lasso = LassoCV(cv=5)\n",
        "lasso.fit(X_std, y)\n",
        "\n",
        "# Identify the most important features\n",
        "weights = abs(lasso.coef_)\n",
        "sorted_weights = sorted(range(len(weights)), key=lambda k: -weights[k])\n",
        "\n",
        "# Print the top 6 features\n",
        "print(\"Top 6 Features:\")\n",
        "for i in range(6):\n",
        "    feature_idx = sorted_weights[i]\n",
        "    feature_name = X.columns[feature_idx]\n",
        "    print(f\"{i+1}. {feature_name}\")\n"
      ],
      "metadata": {
        "colab": {
          "base_uri": "https://localhost:8080/"
        },
        "id": "CfymqqE4pRcn",
        "outputId": "1db0de12-b2ec-48d4-f31d-4f43b4bec0ba"
      },
      "execution_count": null,
      "outputs": [
        {
          "output_type": "stream",
          "name": "stdout",
          "text": [
            "Top 6 Features:\n",
            "1. Traffic_Control\n",
            "2. Accident_Intensity\n",
            "3. Year\n",
            "4. Location\n",
            "5. Lighting\n",
            "6. Month\n"
          ]
        }
      ]
    },
    {
      "cell_type": "markdown",
      "source": [
        "**Define Target as \"Traffic_Control\" (Input Split)**"
      ],
      "metadata": {
        "id": "F285K3vSpVJa"
      }
    },
    {
      "cell_type": "code",
      "source": [
        "# Define the feature matrix X and target variable y\n",
        "X = df[['Year', 'Month', 'Location', 'Accident_Intensity', 'Junction', 'Weather', 'Lighting']]\n",
        "y = df['Traffic_Control']\n",
        "\n",
        "# Standardize the features\n",
        "scaler = StandardScaler()\n",
        "X_std = scaler.fit_transform(X)\n",
        "\n",
        "# Apply Lasso Regression\n",
        "lasso = LassoCV(cv=5)\n",
        "lasso.fit(X_std, y)\n",
        "\n",
        "# Identify the most important features\n",
        "weights = abs(lasso.coef_)\n",
        "sorted_weights = sorted(range(len(weights)), key=lambda k: -weights[k])\n",
        "\n",
        "# Print the top 6 features\n",
        "print(\"Top 6 Features:\")\n",
        "for i in range(6):\n",
        "    feature_idx = sorted_weights[i]\n",
        "    feature_name = X.columns[feature_idx]\n",
        "    print(f\"{i+1}. {feature_name}\")\n"
      ],
      "metadata": {
        "colab": {
          "base_uri": "https://localhost:8080/"
        },
        "id": "HBawxIKYpV4i",
        "outputId": "f66fdd9f-19c3-4556-d8a4-3d4b7b353fc8"
      },
      "execution_count": null,
      "outputs": [
        {
          "output_type": "stream",
          "name": "stdout",
          "text": [
            "Top 6 Features:\n",
            "1. Junction\n",
            "2. Year\n",
            "3. Accident_Intensity\n",
            "4. Month\n",
            "5. Location\n",
            "6. Weather\n"
          ]
        }
      ]
    },
    {
      "cell_type": "markdown",
      "source": [
        "**Define Target as \"Weather\" (Input Split)**"
      ],
      "metadata": {
        "id": "xtQfmrEQpZ3q"
      }
    },
    {
      "cell_type": "code",
      "source": [
        "# Define the feature matrix X and target variable y\n",
        "X = df[['Year', 'Month', 'Location', 'Accident_Intensity', 'Junction', 'Traffic_Control', 'Lighting']]\n",
        "y = df['Weather']\n",
        "\n",
        "# Standardize the features\n",
        "scaler = StandardScaler()\n",
        "X_std = scaler.fit_transform(X)\n",
        "\n",
        "# Apply Lasso Regression\n",
        "lasso = LassoCV(cv=5)\n",
        "lasso.fit(X_std, y)\n",
        "\n",
        "# Identify the most important features\n",
        "weights = abs(lasso.coef_)\n",
        "sorted_weights = sorted(range(len(weights)), key=lambda k: -weights[k])\n",
        "\n",
        "# Print the top 6 features\n",
        "print(\"Top 6 Features:\")\n",
        "for i in range(6):\n",
        "    feature_idx = sorted_weights[i]\n",
        "    feature_name = X.columns[feature_idx]\n",
        "    print(f\"{i+1}. {feature_name}\")\n"
      ],
      "metadata": {
        "colab": {
          "base_uri": "https://localhost:8080/"
        },
        "id": "Xad8Qc5Zpa0S",
        "outputId": "3bac04de-b189-4f47-fd13-ea3dfa0eadc9"
      },
      "execution_count": null,
      "outputs": [
        {
          "output_type": "stream",
          "name": "stdout",
          "text": [
            "Top 6 Features:\n",
            "1. Year\n",
            "2. Month\n",
            "3. Location\n",
            "4. Accident_Intensity\n",
            "5. Junction\n",
            "6. Traffic_Control\n"
          ]
        }
      ]
    },
    {
      "cell_type": "markdown",
      "source": [
        "**Define Target as \"Lighting\" (Input Split)**"
      ],
      "metadata": {
        "id": "y6qQfgDUpfDi"
      }
    },
    {
      "cell_type": "code",
      "source": [
        "# Define the feature matrix X and target variable y\n",
        "X = df[['Year', 'Month', 'Location', 'Accident_Intensity', 'Junction', 'Traffic_Control', 'Weather']]\n",
        "y = df['Lighting']\n",
        "\n",
        "# Standardize the features\n",
        "scaler = StandardScaler()\n",
        "X_std = scaler.fit_transform(X)\n",
        "\n",
        "# Apply Lasso Regression\n",
        "lasso = LassoCV(cv=5)\n",
        "lasso.fit(X_std, y)\n",
        "\n",
        "# Identify the most important features\n",
        "weights = abs(lasso.coef_)\n",
        "sorted_weights = sorted(range(len(weights)), key=lambda k: -weights[k])\n",
        "\n",
        "# Print the top 6 features\n",
        "print(\"Top 6 Features:\")\n",
        "for i in range(6):\n",
        "    feature_idx = sorted_weights[i]\n",
        "    feature_name = X.columns[feature_idx]\n",
        "    print(f\"{i+1}. {feature_name}\")\n"
      ],
      "metadata": {
        "id": "BXymYVXApf46",
        "outputId": "d2e7ca1f-ed0c-406b-ea0c-371a0c8f12c6",
        "colab": {
          "base_uri": "https://localhost:8080/"
        }
      },
      "execution_count": null,
      "outputs": [
        {
          "output_type": "stream",
          "name": "stdout",
          "text": [
            "Top 6 Features:\n",
            "1. Junction\n",
            "2. Year\n",
            "3. Month\n",
            "4. Location\n",
            "5. Accident_Intensity\n",
            "6. Traffic_Control\n"
          ]
        }
      ]
    }
  ]
}